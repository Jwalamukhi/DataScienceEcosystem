{
  "metadata": {
    "kernelspec": {
      "name": "python",
      "display_name": "Python (Pyodide)",
      "language": "python"
    },
    "language_info": {
      "codemirror_mode": {
        "name": "python",
        "version": 3
      },
      "file_extension": ".py",
      "mimetype": "text/x-python",
      "name": "python",
      "nbconvert_exporter": "python",
      "pygments_lexer": "ipython3",
      "version": "3.8"
    }
  },
  "nbformat_minor": 5,
  "nbformat": 4,
  "cells": [
    {
      "id": "783e8282-cc4c-4348-be96-04697b7b7cab",
      "cell_type": "markdown",
      "source": "# H1:Data Science Tools and Ecosystem",
      "metadata": {}
    },
    {
      "id": "5c14daae-d294-4b1f-8b8f-30c28fb18d01",
      "cell_type": "markdown",
      "source": "**In this notebook, Data Science Tools and Ecosystem are summarized.**",
      "metadata": {}
    },
    {
      "id": "07c6d474-dd0d-4f4b-b383-92725e1fd8a7",
      "cell_type": "markdown",
      "source": "**Objectives:**\n+ List popular languages for Data Science\n+ Commonly used libraries by data scientists\n+ Open source tools for data science\n+ Arithmetic expression to multiply then add integers\n+ Conversion from minutes to hours",
      "metadata": {}
    },
    {
      "id": "4310ae3d-1d28-44e0-9333-59385ecab4fb",
      "cell_type": "markdown",
      "source": "**Some of the popular languages that Data Scientists use are:**",
      "metadata": {}
    },
    {
      "id": "679a2ee7-11f7-40ba-8253-9c978e418aaf",
      "cell_type": "markdown",
      "source": "1. python\n2. SQL\n3. Java\n4. Julia\n5. R",
      "metadata": {}
    },
    {
      "id": "325cfa45-834b-43e5-ab5b-5904a6af3282",
      "cell_type": "markdown",
      "source": "**Some of the commonly used libraries used by Data Scientists include:**",
      "metadata": {}
    },
    {
      "id": "8dcd50ba-1faa-4773-b9cb-a0f30434806c",
      "cell_type": "markdown",
      "source": "1. numpy\n2. matplotlib\n3. pandas\n4. scikit-learn",
      "metadata": {}
    },
    {
      "id": "b6758abd-1470-46d8-92ee-30f476e33cf3",
      "cell_type": "markdown",
      "source": "| Data Science Tools |\n|--------------------|\n|     pandas         |\n|     seaborn        |\n|     scikit-learn   |",
      "metadata": {}
    },
    {
      "id": "b008501c-506e-4561-ad38-729b3c68454f",
      "cell_type": "markdown",
      "source": "### H3: Below are a few examples of evaluating arithmetic expressions in Python.",
      "metadata": {}
    },
    {
      "id": "b87d57bb-5ec1-4d93-8fbd-11017caf0f2e",
      "cell_type": "code",
      "source": "#This a simple arithmetic expression to mutiply then add integers\n(3*4)+5",
      "metadata": {
        "trusted": true
      },
      "outputs": [
        {
          "execution_count": 2,
          "output_type": "execute_result",
          "data": {
            "text/plain": "17"
          },
          "metadata": {}
        }
      ],
      "execution_count": 2
    },
    {
      "id": "486ae44b-c278-4d01-9461-abb2b53f775f",
      "cell_type": "code",
      "source": "#This will convert 200 minutes to hours by diving by 60\n200/60",
      "metadata": {
        "trusted": true
      },
      "outputs": [
        {
          "execution_count": 3,
          "output_type": "execute_result",
          "data": {
            "text/plain": "3.3333333333333335"
          },
          "metadata": {}
        }
      ],
      "execution_count": 3
    },
    {
      "id": "7d73b780-43a2-4c31-8e8a-4b897ccfa83f",
      "cell_type": "markdown",
      "source": "## H2: Author\nJwalamukhi S",
      "metadata": {}
    }
  ]
}